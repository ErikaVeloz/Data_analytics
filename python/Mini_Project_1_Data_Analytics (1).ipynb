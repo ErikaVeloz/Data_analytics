{
  "nbformat": 4,
  "nbformat_minor": 0,
  "metadata": {
    "colab": {
      "name": "Mini_Project_1- Data_Analytics",
      "provenance": []
    },
    "kernelspec": {
      "name": "python3",
      "display_name": "Python 3"
    }
  },
  "cells": [
    {
      "cell_type": "markdown",
      "metadata": {
        "id": "g7Tiq5Vg7plr"
      },
      "source": [
        "Task:\r\n",
        "Ask the user for a number. Depending on whether the number is even or odd, print out an appropriate message to the user.  Hint: how does an even / odd number react differently when divided by 2?\r\n",
        "\r\n",
        "Bonus:\r\n",
        "If the number is a multiple of 4, print out a different message.\r\n",
        "Ask the user for two numbers: one number to check (call it num) and one number to divide by (check).  If check divides evenly into num, tell that to the user.  If not, print a different appropriate message.\r\n",
        "Write a custom function for finding whether the number is even or odd and call it in your main program code.\r\n"
      ]
    },
    {
      "cell_type": "markdown",
      "metadata": {
        "id": "xIbaZ2yB8Y48"
      },
      "source": [
        "Erika Veloz\r\n",
        "\r\n",
        "Jan 12/2020\r\n",
        "\r\n",
        "UNIT 2: MINI PROJECT 1"
      ]
    },
    {
      "cell_type": "code",
      "metadata": {
        "colab": {
          "base_uri": "https://localhost:8080/"
        },
        "id": "EvXJP4sLk7LN",
        "outputId": "449b0cfe-9768-4c89-9369-6b99f19677dd"
      },
      "source": [
        "# Task\r\n",
        "num = int(input(\"Give me a intenger and I will tell if is an odd or even integer\"))\r\n",
        "if num % 2 == 0:\r\n",
        "    print('The integer the user input is an even number')\r\n",
        "elif num % 4 == 0:\r\n",
        "    print('The integer the user input is a multiple of 4 ')\r\n",
        "else:\r\n",
        "    print('The integer the user input is an odd number')"
      ],
      "execution_count": null,
      "outputs": [
        {
          "output_type": "stream",
          "text": [
            "Give me a intenger and I will tell if is an odd or even integer  5\n",
            "The integer the user input is an odd number\n"
          ],
          "name": "stdout"
        }
      ]
    },
    {
      "cell_type": "code",
      "metadata": {
        "colab": {
          "base_uri": "https://localhost:8080/"
        },
        "id": "MR27xeHd_s8u",
        "outputId": "b3834a95-f001-4844-e3d8-08081f01a4b1"
      },
      "source": [
        "# Bonus\r\n",
        "num= int(input(\"Give me an integer to check if odd or even: \"))\r\n",
        "check = int(input(\"Give me an integer to divide by: \"))\r\n",
        "\r\n",
        "if num % 2 == 0:\r\n",
        "  print('This integer: ' + str(num) + ' is an even number but is not a multiple of 4')\r\n",
        "elif num % 4 == 0:\r\n",
        "  print('This integer: ' + str(num) + ' is an even number and a multiple of 4')\r\n",
        "else:\r\n",
        "  print('This integer: ' + str(num) + 'is an odd number')\r\n",
        "\r\n",
        "if num % check == 0:\r\n",
        "  print('This integer: ' + str(num) + ' divides evenly by: ' + str(check))\r\n",
        "else:\r\n",
        "  print('This integer: ' + str(num) + ' does not divide evenly by: ' + str(check))\r\n"
      ],
      "execution_count": null,
      "outputs": [
        {
          "output_type": "stream",
          "text": [
            "Give me an integer to check if odd or even:  36\n",
            "Give me an integer to divide by:  4\n",
            "This integer: 36 is an even number but is not a multiple of 4\n",
            "This integer: 36 divides evenly by: 4\n"
          ],
          "name": "stdout"
        }
      ]
    },
    {
      "cell_type": "code",
      "metadata": {
        "colab": {
          "base_uri": "https://localhost:8080/"
        },
        "id": "eLYQIMaruSW8",
        "outputId": "7b5f7128-f60e-41ec-dc70-54a7eba767a1"
      },
      "source": [
        "# Main Program\r\n",
        "def data(x):\r\n",
        "  x=2\r\n",
        "  \"This function displays whether an integer is odd or even\"\r\n",
        "print(\"This integer is an even number\")\r\n",
        "data(2)\r\n"
      ],
      "execution_count": 51,
      "outputs": [
        {
          "output_type": "stream",
          "text": [
            "This integer is an even number\n"
          ],
          "name": "stdout"
        }
      ]
    },
    {
      "cell_type": "code",
      "metadata": {
        "id": "ltymmaCsy2OM"
      },
      "source": [
        ""
      ],
      "execution_count": null,
      "outputs": []
    }
  ]
}