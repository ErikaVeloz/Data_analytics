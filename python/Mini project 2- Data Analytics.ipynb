{
 "cells": [
  {
   "cell_type": "markdown",
   "metadata": {},
   "source": [
    "Erika Veloz\n",
    "\n",
    "Jan 15/2020\n",
    "\n",
    "Mini Project 2- Data Analytics"
   ]
  },
  {
   "cell_type": "code",
   "execution_count": 1,
   "metadata": {},
   "outputs": [],
   "source": [
    "#Environmental set up and loading of packages\n",
    "import numpy as np \n",
    "import pandas as pd\n",
    "import matplotlib.pyplot as plt"
   ]
  },
  {
   "cell_type": "code",
   "execution_count": 2,
   "metadata": {},
   "outputs": [
    {
     "data": {
      "text/html": [
       "<div>\n",
       "<style scoped>\n",
       "    .dataframe tbody tr th:only-of-type {\n",
       "        vertical-align: middle;\n",
       "    }\n",
       "\n",
       "    .dataframe tbody tr th {\n",
       "        vertical-align: top;\n",
       "    }\n",
       "\n",
       "    .dataframe thead th {\n",
       "        text-align: right;\n",
       "    }\n",
       "</style>\n",
       "<table border=\"1\" class=\"dataframe\">\n",
       "  <thead>\n",
       "    <tr style=\"text-align: right;\">\n",
       "      <th></th>\n",
       "      <th>date</th>\n",
       "      <th>county</th>\n",
       "      <th>state</th>\n",
       "      <th>fips</th>\n",
       "      <th>cases</th>\n",
       "      <th>deaths</th>\n",
       "    </tr>\n",
       "  </thead>\n",
       "  <tbody>\n",
       "    <tr>\n",
       "      <th>0</th>\n",
       "      <td>2020-01-21</td>\n",
       "      <td>Snohomish</td>\n",
       "      <td>Washington</td>\n",
       "      <td>53061.0</td>\n",
       "      <td>1</td>\n",
       "      <td>0.0</td>\n",
       "    </tr>\n",
       "    <tr>\n",
       "      <th>1</th>\n",
       "      <td>2020-01-22</td>\n",
       "      <td>Snohomish</td>\n",
       "      <td>Washington</td>\n",
       "      <td>53061.0</td>\n",
       "      <td>1</td>\n",
       "      <td>0.0</td>\n",
       "    </tr>\n",
       "    <tr>\n",
       "      <th>2</th>\n",
       "      <td>2020-01-23</td>\n",
       "      <td>Snohomish</td>\n",
       "      <td>Washington</td>\n",
       "      <td>53061.0</td>\n",
       "      <td>1</td>\n",
       "      <td>0.0</td>\n",
       "    </tr>\n",
       "    <tr>\n",
       "      <th>3</th>\n",
       "      <td>2020-01-24</td>\n",
       "      <td>Cook</td>\n",
       "      <td>Illinois</td>\n",
       "      <td>17031.0</td>\n",
       "      <td>1</td>\n",
       "      <td>0.0</td>\n",
       "    </tr>\n",
       "    <tr>\n",
       "      <th>4</th>\n",
       "      <td>2020-01-24</td>\n",
       "      <td>Snohomish</td>\n",
       "      <td>Washington</td>\n",
       "      <td>53061.0</td>\n",
       "      <td>1</td>\n",
       "      <td>0.0</td>\n",
       "    </tr>\n",
       "    <tr>\n",
       "      <th>...</th>\n",
       "      <td>...</td>\n",
       "      <td>...</td>\n",
       "      <td>...</td>\n",
       "      <td>...</td>\n",
       "      <td>...</td>\n",
       "      <td>...</td>\n",
       "    </tr>\n",
       "    <tr>\n",
       "      <th>933493</th>\n",
       "      <td>2021-01-15</td>\n",
       "      <td>Sweetwater</td>\n",
       "      <td>Wyoming</td>\n",
       "      <td>56037.0</td>\n",
       "      <td>3262</td>\n",
       "      <td>26.0</td>\n",
       "    </tr>\n",
       "    <tr>\n",
       "      <th>933494</th>\n",
       "      <td>2021-01-15</td>\n",
       "      <td>Teton</td>\n",
       "      <td>Wyoming</td>\n",
       "      <td>56039.0</td>\n",
       "      <td>2605</td>\n",
       "      <td>4.0</td>\n",
       "    </tr>\n",
       "    <tr>\n",
       "      <th>933495</th>\n",
       "      <td>2021-01-15</td>\n",
       "      <td>Uinta</td>\n",
       "      <td>Wyoming</td>\n",
       "      <td>56041.0</td>\n",
       "      <td>1806</td>\n",
       "      <td>9.0</td>\n",
       "    </tr>\n",
       "    <tr>\n",
       "      <th>933496</th>\n",
       "      <td>2021-01-15</td>\n",
       "      <td>Washakie</td>\n",
       "      <td>Wyoming</td>\n",
       "      <td>56043.0</td>\n",
       "      <td>839</td>\n",
       "      <td>23.0</td>\n",
       "    </tr>\n",
       "    <tr>\n",
       "      <th>933497</th>\n",
       "      <td>2021-01-15</td>\n",
       "      <td>Weston</td>\n",
       "      <td>Wyoming</td>\n",
       "      <td>56045.0</td>\n",
       "      <td>602</td>\n",
       "      <td>4.0</td>\n",
       "    </tr>\n",
       "  </tbody>\n",
       "</table>\n",
       "<p>933498 rows × 6 columns</p>\n",
       "</div>"
      ],
      "text/plain": [
       "              date      county       state     fips  cases  deaths\n",
       "0       2020-01-21   Snohomish  Washington  53061.0      1     0.0\n",
       "1       2020-01-22   Snohomish  Washington  53061.0      1     0.0\n",
       "2       2020-01-23   Snohomish  Washington  53061.0      1     0.0\n",
       "3       2020-01-24        Cook    Illinois  17031.0      1     0.0\n",
       "4       2020-01-24   Snohomish  Washington  53061.0      1     0.0\n",
       "...            ...         ...         ...      ...    ...     ...\n",
       "933493  2021-01-15  Sweetwater     Wyoming  56037.0   3262    26.0\n",
       "933494  2021-01-15       Teton     Wyoming  56039.0   2605     4.0\n",
       "933495  2021-01-15       Uinta     Wyoming  56041.0   1806     9.0\n",
       "933496  2021-01-15    Washakie     Wyoming  56043.0    839    23.0\n",
       "933497  2021-01-15      Weston     Wyoming  56045.0    602     4.0\n",
       "\n",
       "[933498 rows x 6 columns]"
      ]
     },
     "execution_count": 2,
     "metadata": {},
     "output_type": "execute_result"
    }
   ],
   "source": [
    "#Data Collection\n",
    "df = pd.read_csv('https://raw.githubusercontent.com/nytimes/covid-19-data/master/us-counties.csv' )\n",
    "df"
   ]
  },
  {
   "cell_type": "code",
   "execution_count": 3,
   "metadata": {},
   "outputs": [
    {
     "data": {
      "text/html": [
       "<div>\n",
       "<style scoped>\n",
       "    .dataframe tbody tr th:only-of-type {\n",
       "        vertical-align: middle;\n",
       "    }\n",
       "\n",
       "    .dataframe tbody tr th {\n",
       "        vertical-align: top;\n",
       "    }\n",
       "\n",
       "    .dataframe thead th {\n",
       "        text-align: right;\n",
       "    }\n",
       "</style>\n",
       "<table border=\"1\" class=\"dataframe\">\n",
       "  <thead>\n",
       "    <tr style=\"text-align: right;\">\n",
       "      <th></th>\n",
       "      <th>date</th>\n",
       "      <th>county</th>\n",
       "      <th>state</th>\n",
       "      <th>fips</th>\n",
       "      <th>cases</th>\n",
       "      <th>deaths</th>\n",
       "    </tr>\n",
       "  </thead>\n",
       "  <tbody>\n",
       "    <tr>\n",
       "      <th>0</th>\n",
       "      <td>2020-01-21</td>\n",
       "      <td>Snohomish</td>\n",
       "      <td>Washington</td>\n",
       "      <td>53061.0</td>\n",
       "      <td>1</td>\n",
       "      <td>0.0</td>\n",
       "    </tr>\n",
       "    <tr>\n",
       "      <th>1</th>\n",
       "      <td>2020-01-22</td>\n",
       "      <td>Snohomish</td>\n",
       "      <td>Washington</td>\n",
       "      <td>53061.0</td>\n",
       "      <td>1</td>\n",
       "      <td>0.0</td>\n",
       "    </tr>\n",
       "    <tr>\n",
       "      <th>2</th>\n",
       "      <td>2020-01-23</td>\n",
       "      <td>Snohomish</td>\n",
       "      <td>Washington</td>\n",
       "      <td>53061.0</td>\n",
       "      <td>1</td>\n",
       "      <td>0.0</td>\n",
       "    </tr>\n",
       "    <tr>\n",
       "      <th>3</th>\n",
       "      <td>2020-01-24</td>\n",
       "      <td>Cook</td>\n",
       "      <td>Illinois</td>\n",
       "      <td>17031.0</td>\n",
       "      <td>1</td>\n",
       "      <td>0.0</td>\n",
       "    </tr>\n",
       "    <tr>\n",
       "      <th>4</th>\n",
       "      <td>2020-01-24</td>\n",
       "      <td>Snohomish</td>\n",
       "      <td>Washington</td>\n",
       "      <td>53061.0</td>\n",
       "      <td>1</td>\n",
       "      <td>0.0</td>\n",
       "    </tr>\n",
       "  </tbody>\n",
       "</table>\n",
       "</div>"
      ],
      "text/plain": [
       "         date     county       state     fips  cases  deaths\n",
       "0  2020-01-21  Snohomish  Washington  53061.0      1     0.0\n",
       "1  2020-01-22  Snohomish  Washington  53061.0      1     0.0\n",
       "2  2020-01-23  Snohomish  Washington  53061.0      1     0.0\n",
       "3  2020-01-24       Cook    Illinois  17031.0      1     0.0\n",
       "4  2020-01-24  Snohomish  Washington  53061.0      1     0.0"
      ]
     },
     "execution_count": 3,
     "metadata": {},
     "output_type": "execute_result"
    }
   ],
   "source": [
    "df.head()"
   ]
  },
  {
   "cell_type": "code",
   "execution_count": 4,
   "metadata": {},
   "outputs": [
    {
     "data": {
      "text/plain": [
       "(933498, 6)"
      ]
     },
     "execution_count": 4,
     "metadata": {},
     "output_type": "execute_result"
    }
   ],
   "source": [
    "df.shape"
   ]
  },
  {
   "cell_type": "code",
   "execution_count": 5,
   "metadata": {},
   "outputs": [
    {
     "data": {
      "text/plain": [
       "Index(['date', 'county', 'state', 'fips', 'cases', 'deaths'], dtype='object')"
      ]
     },
     "execution_count": 5,
     "metadata": {},
     "output_type": "execute_result"
    }
   ],
   "source": [
    "df.columns"
   ]
  },
  {
   "cell_type": "code",
   "execution_count": 37,
   "metadata": {},
   "outputs": [
    {
     "data": {
      "text/plain": [
       "state\n",
       "Alabama                     19951\n",
       "Alaska                       7101\n",
       "Arizona                      4625\n",
       "Arkansas                    22324\n",
       "California                  17671\n",
       "Colorado                    18615\n",
       "Connecticut                  2744\n",
       "Delaware                     1199\n",
       "District of Columbia          315\n",
       "Florida                     20518\n",
       "Georgia                     47609\n",
       "Guam                          307\n",
       "Hawaii                       1303\n",
       "Idaho                       11930\n",
       "Illinois                    29767\n",
       "Indiana                     27450\n",
       "Iowa                        28770\n",
       "Kansas                      28451\n",
       "Kentucky                    34612\n",
       "Louisiana                   19508\n",
       "Maine                        5021\n",
       "Maryland                     7570\n",
       "Massachusetts                4669\n",
       "Michigan                    24630\n",
       "Minnesota                   25379\n",
       "Mississippi                 24484\n",
       "Missouri                    33088\n",
       "Montana                     13608\n",
       "Nebraska                    24003\n",
       "Nevada                       4596\n",
       "New Hampshire                3299\n",
       "New Jersey                   6791\n",
       "New Mexico                   9384\n",
       "New York                    17678\n",
       "North Carolina              29508\n",
       "North Dakota                14417\n",
       "Northern Mariana Islands      518\n",
       "Ohio                        26162\n",
       "Oklahoma                    22250\n",
       "Oregon                      10390\n",
       "Pennsylvania                20080\n",
       "Puerto Rico                 20240\n",
       "Rhode Island                 1806\n",
       "South Carolina              13873\n",
       "South Dakota                17674\n",
       "Tennessee                   28351\n",
       "Texas                       70812\n",
       "Utah                         8429\n",
       "Vermont                      4513\n",
       "Virgin Islands                986\n",
       "Virginia                    38881\n",
       "Washington                  12046\n",
       "West Virginia               15671\n",
       "Wisconsin                   21215\n",
       "Wyoming                      6706\n",
       "Name: cases, dtype: int64"
      ]
     },
     "execution_count": 37,
     "metadata": {},
     "output_type": "execute_result"
    }
   ],
   "source": [
    "df.groupby(['state'])['cases'].count()"
   ]
  },
  {
   "cell_type": "code",
   "execution_count": 6,
   "metadata": {},
   "outputs": [],
   "source": [
    "\n",
    "NY_cases_by_county= df[df[\"state\"] == \"New York\"]"
   ]
  },
  {
   "cell_type": "code",
   "execution_count": 7,
   "metadata": {},
   "outputs": [
    {
     "name": "stdout",
     "output_type": "stream",
     "text": [
      "Total cases and Total Deaths for New York\n",
      "\n"
     ]
    }
   ],
   "source": [
    "print(\"Total cases and Total Deaths for New York\" + \"\\n\")"
   ]
  },
  {
   "cell_type": "code",
   "execution_count": 8,
   "metadata": {},
   "outputs": [],
   "source": [
    "significant = [\"cases\",\"deaths\"]"
   ]
  },
  {
   "cell_type": "code",
   "execution_count": 9,
   "metadata": {},
   "outputs": [
    {
     "name": "stdout",
     "output_type": "stream",
     "text": [
      "              cases   deaths\n",
      "date                        \n",
      "2020-03-01        1      0.0\n",
      "2020-03-02        1      0.0\n",
      "2020-03-03        2      0.0\n",
      "2020-03-04       11      0.0\n",
      "2020-03-05       22      0.0\n",
      "...             ...      ...\n",
      "2021-01-11  1150028  39404.0\n",
      "2021-01-12  1164819  39588.0\n",
      "2021-01-13  1179523  39760.0\n",
      "2021-01-14  1193710  39997.0\n",
      "2021-01-15  1213179  40203.0\n",
      "\n",
      "[321 rows x 2 columns]\n",
      "\n",
      "\n",
      "\n"
     ]
    }
   ],
   "source": [
    "#This would print the total number of cases and deaths since the beginning of the pandemic\n",
    "NY_total = NY_cases_by_county.groupby(\"date\")[significant].sum()\n",
    "print(NY_total)\n",
    "print(\"\\n\\n\")"
   ]
  },
  {
   "cell_type": "code",
   "execution_count": 10,
   "metadata": {},
   "outputs": [],
   "source": [
    "#New cases and deaths per day from my selected state\n",
    "dates_list =list(NY_total.index)\n",
    "NY_cases_list = NY_total[\"cases\"].tolist()\n",
    "NY_deaths_list = NY_total[\"deaths\"].tolist()"
   ]
  },
  {
   "cell_type": "code",
   "execution_count": 11,
   "metadata": {},
   "outputs": [],
   "source": [
    "new_cases = np.diff(NY_cases_list).tolist()\n",
    "new_deaths = np.diff(NY_deaths_list).tolist()\n",
    "new_cases.insert(0,\"N\\A\")\n",
    "new_deaths.insert(0,\"N\\A\")\n",
    "#Some of the data at the beginning of the pandemic didnt have any data reported to substract with new data,so N|A=No Available"
   ]
  },
  {
   "cell_type": "code",
   "execution_count": 12,
   "metadata": {},
   "outputs": [],
   "source": [
    "NY_df = pd.DataFrame(list(zip(dates_list,new_cases,new_deaths)),\n",
    "                    columns=[\"dates\",\"new cases\",\"new deaths\"])\n"
   ]
  },
  {
   "cell_type": "code",
   "execution_count": 13,
   "metadata": {},
   "outputs": [],
   "source": [
    "NY_df = NY_df.set_index(\"dates\")"
   ]
  },
  {
   "cell_type": "code",
   "execution_count": 14,
   "metadata": {},
   "outputs": [
    {
     "name": "stdout",
     "output_type": "stream",
     "text": [
      "This are the new cases and new deaths in New York\n",
      "\n",
      "           new cases new deaths\n",
      "dates                          \n",
      "2020-03-01       N\\A        N\\A\n",
      "2020-03-02         0          0\n",
      "2020-03-03         1          0\n",
      "2020-03-04         9          0\n",
      "2020-03-05        11          0\n",
      "...              ...        ...\n",
      "2021-01-11     14179        196\n",
      "2021-01-12     14791        184\n",
      "2021-01-13     14704        172\n",
      "2021-01-14     14187        237\n",
      "2021-01-15     19469        206\n",
      "\n",
      "[321 rows x 2 columns]\n"
     ]
    }
   ],
   "source": [
    "print(\"This are the new cases and new deaths in New York\" + \"\\n\")\n",
    "print(NY_df)"
   ]
  },
  {
   "cell_type": "code",
   "execution_count": 15,
   "metadata": {},
   "outputs": [
    {
     "name": "stdout",
     "output_type": "stream",
     "text": [
      "The last 30 days COVID data in New York\n",
      "\n",
      "           new cases new deaths\n",
      "dates                          \n",
      "2020-12-17     10498        125\n",
      "2020-12-18     12606        128\n",
      "2020-12-19      9913        122\n",
      "2020-12-20      9454        120\n",
      "2020-12-21      9456        130\n",
      "2020-12-22     10299        153\n",
      "2020-12-23     11740        154\n",
      "2020-12-24     13347        150\n",
      "2020-12-25     12881        135\n",
      "2020-12-26     11048        131\n",
      "2020-12-27      8205        130\n",
      "2020-12-28     10334        118\n",
      "2020-12-29     12020        138\n",
      "2020-12-30     12917        156\n",
      "2020-12-31     15393        145\n",
      "2021-01-01     17033        176\n",
      "2021-01-02     15849        121\n",
      "2021-01-03     12232        147\n",
      "2021-01-04     11242        166\n",
      "2021-01-05     13142        148\n",
      "2021-01-06     16016        171\n",
      "2021-01-07     17588        197\n",
      "2021-01-08     19560        163\n",
      "2021-01-09     17839        195\n",
      "2021-01-10     16308        167\n",
      "2021-01-11     14179        196\n",
      "2021-01-12     14791        184\n",
      "2021-01-13     14704        172\n",
      "2021-01-14     14187        237\n",
      "2021-01-15     19469        206\n",
      "\n",
      "\n"
     ]
    }
   ],
   "source": [
    "#Cleaning Data and Exploratory Data Analysis\n",
    "#New York COVID 19 last 30 days data\n",
    "last_30_days_from = NY_df.tail(n=30)\n",
    "print(\"The last 30 days COVID data in New York\" + \"\\n\")\n",
    "print(last_30_days_from)\n",
    "print(\"\\n\")\n"
   ]
  },
  {
   "cell_type": "code",
   "execution_count": 36,
   "metadata": {},
   "outputs": [
    {
     "data": {
      "text/plain": [
       "Text(0, 0.5, 'Cases')"
      ]
     },
     "execution_count": 36,
     "metadata": {},
     "output_type": "execute_result"
    },
    {
     "data": {
      "image/png": "[encoded data removed]",
      "text/plain": [
       "<Figure size 432x288 with 1 Axes>"
      ]
     },
     "metadata": {
      "needs_background": "light"
     },
     "output_type": "display_data"
    }
   ],
   "source": [
    "last_30_days_from.plot(kind='bar')\n",
    "plt.title('New Covid cases & deaths in New York state in the last 30 days')\n",
    "plt.xlabel('Dates')\n",
    "plt.ylabel('Cases')"
   ]
  },
  {
   "cell_type": "markdown",
   "metadata": {},
   "source": [
    "This graph shows that in the last 30 days cases and deaths of COVID-19 have been increasing in New York state at a much rapid pace in comparison to the begining of the pandemic. "
   ]
  },
  {
   "cell_type": "code",
   "execution_count": 63,
   "metadata": {},
   "outputs": [],
   "source": [
    "#Comparison of NY COVID cases with other states\n",
    "states =['New York','Florida','Arizona','Virginia','Illinois']"
   ]
  },
  {
   "cell_type": "code",
   "execution_count": 64,
   "metadata": {},
   "outputs": [],
   "source": [
    "death=pd.DataFrame(df.groupby(['state'])['deaths'].max())"
   ]
  },
  {
   "cell_type": "code",
   "execution_count": 65,
   "metadata": {},
   "outputs": [
    {
     "data": {
      "text/html": [
       "<div>\n",
       "<style scoped>\n",
       "    .dataframe tbody tr th:only-of-type {\n",
       "        vertical-align: middle;\n",
       "    }\n",
       "\n",
       "    .dataframe tbody tr th {\n",
       "        vertical-align: top;\n",
       "    }\n",
       "\n",
       "    .dataframe thead th {\n",
       "        text-align: right;\n",
       "    }\n",
       "</style>\n",
       "<table border=\"1\" class=\"dataframe\">\n",
       "  <thead>\n",
       "    <tr style=\"text-align: right;\">\n",
       "      <th></th>\n",
       "      <th>deaths</th>\n",
       "    </tr>\n",
       "    <tr>\n",
       "      <th>state</th>\n",
       "      <th></th>\n",
       "    </tr>\n",
       "  </thead>\n",
       "  <tbody>\n",
       "    <tr>\n",
       "      <th>New York</th>\n",
       "      <td>25909.0</td>\n",
       "    </tr>\n",
       "    <tr>\n",
       "      <th>California</th>\n",
       "      <td>13489.0</td>\n",
       "    </tr>\n",
       "    <tr>\n",
       "      <th>Illinois</th>\n",
       "      <td>8939.0</td>\n",
       "    </tr>\n",
       "    <tr>\n",
       "      <th>Arizona</th>\n",
       "      <td>6340.0</td>\n",
       "    </tr>\n",
       "    <tr>\n",
       "      <th>Florida</th>\n",
       "      <td>4528.0</td>\n",
       "    </tr>\n",
       "  </tbody>\n",
       "</table>\n",
       "</div>"
      ],
      "text/plain": [
       "             deaths\n",
       "state              \n",
       "New York    25909.0\n",
       "California  13489.0\n",
       "Illinois     8939.0\n",
       "Arizona      6340.0\n",
       "Florida      4528.0"
      ]
     },
     "execution_count": 65,
     "metadata": {},
     "output_type": "execute_result"
    }
   ],
   "source": [
    "death.nlargest(5,'deaths')"
   ]
  },
  {
   "cell_type": "code",
   "execution_count": 66,
   "metadata": {},
   "outputs": [
    {
     "data": {
      "text/plain": [
       "<matplotlib.legend.Legend at 0x1a339a8f940>"
      ]
     },
     "execution_count": 66,
     "metadata": {},
     "output_type": "execute_result"
    },
    {
     "data": {
      "image/png": "[encoded data removed]",
      "text/plain": [
       "<Figure size 432x288 with 1 Axes>"
      ]
     },
     "metadata": {
      "needs_background": "light"
     },
     "output_type": "display_data"
    }
   ],
   "source": [
    "for s in states:\n",
    "    df1=df.query(f\"state == '{s}'\").reset_index()\n",
    "    plt.plot(df1['cases'],label=s)\n",
    "plt.title('Cases of Covid-19 in Different states')\n",
    "plt.legend()"
   ]
  },
  {
   "cell_type": "markdown",
   "metadata": {},
   "source": [
    "Conclusion\n",
    "Based of this dataset:\n",
    "- New York State cases have grown at a faster pace from the last 30 days.\n",
    "- It has 1,213,179 cases reported as of Jan 15/2021\n",
    "- On Jan 08/2021 New York State reported it highest peak of 19560\n",
    "- In comparison to other states, New York have presented the highest amount of cases and deaths as I presented in the above graph. \n"
   ]
  }
 ],
 "metadata": {
  "kernelspec": {
   "display_name": "Python 3",
   "language": "python",
   "name": "python3"
  },
  "language_info": {
   "codemirror_mode": {
    "name": "ipython",
    "version": 3
   },
   "file_extension": ".py",
   "mimetype": "text/x-python",
   "name": "python",
   "nbconvert_exporter": "python",
   "pygments_lexer": "ipython3",
   "version": "3.8.5"
  }
 },
 "nbformat": 4,
 "nbformat_minor": 4
}
